{
 "cells": [
  {
   "cell_type": "code",
   "execution_count": 133,
   "metadata": {},
   "outputs": [],
   "source": [
    "import matplotlib.pyplot as plt\n",
    "import matplotlib.ticker as mtick\n",
    "import sympy\n",
    "import math\n",
    "from math import log,exp\n",
    "\n",
    "def factor(N): # Function for deriving a factorial using a for-loop\n",
    "    if N==0 or N==1:\n",
    "        return 1\n",
    "    else:\n",
    "        total = 1\n",
    "        for i in range(2,N+1):\n",
    "            total *=i\n",
    "        return total\n",
    "def Multiplicity(N,n): # Function with passed parameters of N and q to find the multiplicity\n",
    "    j = factor(N)\n",
    "    k = factor(n)\n",
    "    l = factor(N-n)\n",
    "    return exp(log(j)-(log(k)+log(l)))"
   ]
  },
  {
   "cell_type": "code",
   "execution_count": 134,
   "metadata": {},
   "outputs": [],
   "source": [
    "def Plot_Omega(A,B): # Function with passed parameters of N(A) and N(B) to plot and call the Multiplicity function\n",
    "    q_total = 100\n",
    "    A_series = range(q_total)\n",
    "    Omega = []\n",
    "    for a in A_series:\n",
    "        b = 100 - a\n",
    "        Omega.append(Multiplicity(A,a)*Multiplicity(B,b))\n",
    "        \n",
    "    plt.plot(A_series, Omega)\n",
    "    plt.title('N = '+str(A))\n",
    "    plt.xlabel('q')\n",
    "    plt.ylabel('$\\Omega$(total)')\n",
    "    plt.show()\n",
    "    "
   ]
  },
  {
   "cell_type": "code",
   "execution_count": 136,
   "metadata": {},
   "outputs": [
    {
     "data": {
      "image/png": "[encoded data removed]",
      "text/plain": [
       "<Figure size 432x288 with 1 Axes>"
      ]
     },
     "metadata": {},
     "output_type": "display_data"
    }
   ],
   "source": [
    "Plot_Omega(200, 300)"
   ]
  },
  {
   "cell_type": "code",
   "execution_count": 120,
   "metadata": {},
   "outputs": [],
   "source": [
    "# As N gets larger, the peak of the graph, or the highest density\n",
    "# point gradually moves toward lower values of q. "
   ]
  },
  {
   "cell_type": "code",
   "execution_count": null,
   "metadata": {},
   "outputs": [],
   "source": []
  }
 ],
 "metadata": {
  "kernelspec": {
   "display_name": "Python 3",
   "language": "python",
   "name": "python3"
  },
  "language_info": {
   "codemirror_mode": {
    "name": "ipython",
    "version": 3
   },
   "file_extension": ".py",
   "mimetype": "text/x-python",
   "name": "python",
   "nbconvert_exporter": "python",
   "pygments_lexer": "ipython3",
   "version": "3.6.5"
  }
 },
 "nbformat": 4,
 "nbformat_minor": 2
}
