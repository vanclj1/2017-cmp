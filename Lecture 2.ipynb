{
 "cells": [
  {
   "cell_type": "code",
   "execution_count": 1,
   "metadata": {},
   "outputs": [
    {
     "name": "stdout",
     "output_type": "stream",
     "text": [
      "type a value for x: 3\n",
      "type a value for y: 4\n",
      "x+y= 34\n"
     ]
    }
   ],
   "source": [
    "x = input(\"type a value for x: \")\n",
    "y = input(\"type a value for y: \")\n",
    "print('x+y=',x+y)"
   ]
  },
  {
   "cell_type": "code",
   "execution_count": 5,
   "metadata": {},
   "outputs": [
    {
     "name": "stdout",
     "output_type": "stream",
     "text": [
      "Series for m =  1\n",
      "n = 2   121.5436037678517 nm\n",
      "n = 3   102.55241567912488 nm\n",
      "n = 4   97.23488301428137 nm\n",
      "n = 5   94.95594044363415 nm\n",
      "n = 6   93.76220862091418 nm\n",
      "Series for m =  2\n",
      "n = 3   656.3354603463993 nm\n",
      "n = 4   486.1744150714068 nm\n",
      "n = 5   434.084299170899 nm\n",
      "n = 6   410.2096627164995 nm\n",
      "n = 7   397.04243897498225 nm\n",
      "Series for m =  3\n",
      "n = 4   1875.2441724182836 nm\n",
      "n = 5   1281.9051959890612 nm\n",
      "n = 6   1093.8924339106654 nm\n",
      "n = 7   1005.013673655424 nm\n",
      "n = 8   954.6697605038536 nm\n"
     ]
    }
   ],
   "source": [
    "R = 1.097e-2\n",
    "for m in [1,2,3]:\n",
    "    print (\"Series for m = \", m)\n",
    "    for k in [1,2,3,4,5]:\n",
    "        n = m + k\n",
    "        invlambda = R*(1.0/m**2 - 1/n**2)\n",
    "        print('n =', n, \" \", 1/invlambda, \"nm\")"
   ]
  },
  {
   "cell_type": "code",
   "execution_count": 6,
   "metadata": {},
   "outputs": [
    {
     "name": "stdout",
     "output_type": "stream",
     "text": [
      "type a positive integer value for m: 6\n",
      "type positive integer value greater than m for n: 8\n",
      "m= 6  , n= 8 , wavelength is  7500.976689673134 nm\n"
     ]
    }
   ],
   "source": [
    "R = 1.097e-2\n",
    "good_m = False\n",
    "while good_m is False:\n",
    "    m=int(input(\"type a positive integer value for m: \"))\n",
    "    if m<=0:\n",
    "        print(\"m must be a positive integer, please enter another number:\")\n",
    "    else:\n",
    "        good_m = True\n",
    "    \n",
    "good_n = False\n",
    "while good_n is False:\n",
    "    n=int(input(\"type positive integer value greater than m for n: \"))\n",
    "    if n<=m:\n",
    "        print(\"n must be greater than \", m, \" please enter another number\")\n",
    "    else: good_n = True\n",
    "invlambda = R*(1.0/m**2 - 1/n**2)\n",
    "print(\"m=\",m, \" , n=\",n, \", wavelength is \", 1/invlambda, \"nm\")        "
   ]
  },
  {
   "cell_type": "code",
   "execution_count": 7,
   "metadata": {},
   "outputs": [],
   "source": [
    "#while loops are good for boolean style logic where continue until\n",
    "#something breaks the pattern for the loop. For loops are good for counting structures\n",
    "#and basically everything else to avoid getting stuck in a loop. It has a built in break \n",
    "#or stopping point."
   ]
  },
  {
   "cell_type": "code",
   "execution_count": 5,
   "metadata": {},
   "outputs": [
    {
     "name": "stdout",
     "output_type": "stream",
     "text": [
      "None\n",
      "[1]\n",
      "[1]\n",
      "[1]\n",
      "[1]\n",
      "[1]\n"
     ]
    }
   ],
   "source": [
    "#Fibonacci program\n",
    "def Fibonacci(N):\n",
    "    Fib_series = []\n",
    "    for i in range(1,N+1):\n",
    "        if len(Fib_series)<=1:\n",
    "            Fib_series.append(1)\n",
    "        else:\n",
    "            Fib_series.append(Fib_series[-1]+Fib_series[-2])\n",
    "        return Fib_series\n",
    "    \n",
    "print(Fibonacci(-1)) \n",
    "print(Fibonacci(1))\n",
    "print(Fibonacci(2))\n",
    "print(Fibonacci(3))\n",
    "print(Fibonacci(4))\n",
    "print(Fibonacci(20))\n"
   ]
  },
  {
   "cell_type": "code",
   "execution_count": 6,
   "metadata": {},
   "outputs": [],
   "source": [
    "z = lambda x: x * x"
   ]
  },
  {
   "cell_type": "code",
   "execution_count": 7,
   "metadata": {},
   "outputs": [
    {
     "data": {
      "text/plain": [
       "64"
      ]
     },
     "execution_count": 7,
     "metadata": {},
     "output_type": "execute_result"
    }
   ],
   "source": [
    "z(8)"
   ]
  },
  {
   "cell_type": "code",
   "execution_count": 14,
   "metadata": {},
   "outputs": [
    {
     "name": "stdout",
     "output_type": "stream",
     "text": [
      "type a value for n: 5\n",
      "When n=  0  ; the multiplicity is  1.0\n",
      "When n=  1  ; the multiplicity is  5.0\n",
      "When n=  2  ; the multiplicity is  10.0\n",
      "When n=  3  ; the multiplicity is  10.0\n",
      "When n=  4  ; the multiplicity is  5.0\n",
      "When n=  5  ; the multiplicity is  1.0\n"
     ]
    }
   ],
   "source": [
    "#Einstein multiplicity\n",
    "def factor(N):\n",
    "    if N == 0 or N == 1:\n",
    "        return 1\n",
    "    else:\n",
    "        total = 1\n",
    "        for i in range(2,N+1):\n",
    "            total *=i\n",
    "        return total    \n",
    "    \n",
    "def Multiplicity(N,n):\n",
    "    return factor(N)/factor(n)/factor(N-n)\n",
    "N = int(input(\"type a value for n: \"))\n",
    "\n",
    "for n in range(N+1):\n",
    "    print ('When n= ', n , ' ; the multiplicity is ' , Multiplicity(N,n))\n",
    "    "
   ]
  },
  {
   "cell_type": "raw",
   "metadata": {},
   "source": []
  }
 ],
 "metadata": {
  "kernelspec": {
   "display_name": "Python 3",
   "language": "python",
   "name": "python3"
  },
  "language_info": {
   "codemirror_mode": {
    "name": "ipython",
    "version": 3
   },
   "file_extension": ".py",
   "mimetype": "text/x-python",
   "name": "python",
   "nbconvert_exporter": "python",
   "pygments_lexer": "ipython3",
   "version": "3.6.5"
  }
 },
 "nbformat": 4,
 "nbformat_minor": 2
}
